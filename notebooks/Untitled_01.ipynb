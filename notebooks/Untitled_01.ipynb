{
 "cells": [
  {
   "cell_type": "code",
   "execution_count": 28,
   "id": "d528dcbd",
   "metadata": {},
   "outputs": [],
   "source": [
    "# Listing Datasets and cleaning the peep registry file\n",
    "import pandas as pd\n",
    "\n",
    "df = pd.read_csv(\"pp_peep_registry.csv\")\n",
    "\n",
    "peep_stats = df[\"peep_status\"].isna()\n",
    "df[\"peep_status\"] = df[\"peep_status\"].fillna(value=\"Not Available\")\n",
    "df[\"peep_required\"] = df[\"peep_required\"].astype(str).str.lower()\n",
    "\n",
    "yes_values = [\"y\", \"yes\", \"true\"]\n",
    "no_values = [\"n\", \"no\", \"false\"]\n",
    "\n",
    "df[\"peep_required\"] = df[\"peep_required\"].apply(\n",
    "    lambda x: \"Yes\" if x in yes_values else (\"No\" if x in no_values else \"Not Specified\")\n",
    ")\n",
    "\n",
    "mobility_category = df[\"mobility_category\"].isna()\n",
    "df[\"mobility_category\"] = df[\"mobility_category\"].fillna(value=\"Category Not Specified\")\n",
    "\n",
    "df[\"last_review_date\"] = pd.to_datetime(df[\"last_review_date\"], format=\"mixed\", dayfirst=True, errors='coerce')\n",
    "\n",
    "property_names = {\"London HQ\": \"LDN-HQ\", \"Bristol Harbourside\": \"BRI-01\", \"Edinburgh Exchange\" : \"EDI-EX\", \"Manchester City Campus\" : \"MCH-CC\", \"Leeds Arena Point\": \"LDS-AR\", \"Birmingham Paradise\": \"BHM-PR\", \"Cardiff Bay\": \"CDF-BY\", \"Belfast Lagan\": \"BEL-LG\", \"Norwich Quarter\": \"NRW-QP\", \"Glasgow Clyde\" : \"GLW-CL\"}\n",
    "df[\"property_code\"] = df[\"property_code\"].replace(property_names)\n",
    "df[\"property_code\"] = df[\"property_code\"].str.upper()\n",
    "df = df[~((df[\"peep_required\"] == \"No\") & (df[\"peep_status\"] == \"Not Available\"))]\n",
    "bad_statuses = [\"Not Available\", \"Pending\", \"Expired\", \"Revoked\"]\n",
    "df[\"risk_status\"] = df.apply(\n",
    "    lambda row: \"Potential\" if (row[\"peep_status\"] in bad_statuses and row[\"peep_required\"] == \"Yes\") else \"Not Potential\",\n",
    "    axis=1\n",
    ")\n",
    "df = df.drop_duplicates()\n",
    "df.head(100)\n",
    "df.to_csv(\"cleaned_peep_registry.csv\", index=False)"
   ]
  },
  {
   "cell_type": "code",
   "execution_count": null,
   "id": "99f76e6c",
   "metadata": {},
   "outputs": [
    {
     "name": "stderr",
     "output_type": "stream",
     "text": [
      "C:\\Users\\Alhaan Ahmed\\AppData\\Local\\Temp\\ipykernel_3340\\1174500795.py:2: FutureWarning: errors='ignore' is deprecated and will raise in a future version. Use to_datetime without passing `errors` and catch exceptions explicitly instead\n",
      "  df2[\"timestamp\"] = pd.to_datetime(df2[\"timestamp\"], format=\"%Y-%m-%d %H:%M:%S\", errors=\"ignore\", dayfirst=True, utc=True)\n"
     ]
    },
    {
     "ename": "AttributeError",
     "evalue": "Can only use .dt accessor with datetimelike values",
     "output_type": "error",
     "traceback": [
      "\u001b[31m---------------------------------------------------------------------------\u001b[39m",
      "\u001b[31mAttributeError\u001b[39m                            Traceback (most recent call last)",
      "\u001b[36mCell\u001b[39m\u001b[36m \u001b[39m\u001b[32mIn[42]\u001b[39m\u001b[32m, line 4\u001b[39m\n\u001b[32m      2\u001b[39m df2[\u001b[33m\"\u001b[39m\u001b[33mtimestamp\u001b[39m\u001b[33m\"\u001b[39m] = pd.to_datetime(df2[\u001b[33m\"\u001b[39m\u001b[33mtimestamp\u001b[39m\u001b[33m\"\u001b[39m], \u001b[38;5;28mformat\u001b[39m=\u001b[33m\"\u001b[39m\u001b[33m%\u001b[39m\u001b[33mY-\u001b[39m\u001b[33m%\u001b[39m\u001b[33mm-\u001b[39m\u001b[38;5;132;01m%d\u001b[39;00m\u001b[33m \u001b[39m\u001b[33m%\u001b[39m\u001b[33mH:\u001b[39m\u001b[33m%\u001b[39m\u001b[33mM:\u001b[39m\u001b[33m%\u001b[39m\u001b[33mS\u001b[39m\u001b[33m\"\u001b[39m, errors=\u001b[33m\"\u001b[39m\u001b[33mignore\u001b[39m\u001b[33m\"\u001b[39m, dayfirst=\u001b[38;5;28;01mTrue\u001b[39;00m, utc=\u001b[38;5;28;01mTrue\u001b[39;00m)\n\u001b[32m      3\u001b[39m \u001b[38;5;66;03m# df2[\"timestamp\"] = pd.to_datetime(df2[\"timestamp\"], errors=\"coerce\", utc=True)\u001b[39;00m\n\u001b[32m----> \u001b[39m\u001b[32m4\u001b[39m df2[\u001b[33m\"\u001b[39m\u001b[33mtimestamp\u001b[39m\u001b[33m\"\u001b[39m] = \u001b[43mdf2\u001b[49m\u001b[43m[\u001b[49m\u001b[33;43m\"\u001b[39;49m\u001b[33;43mtimestamp\u001b[39;49m\u001b[33;43m\"\u001b[39;49m\u001b[43m]\u001b[49m\u001b[43m.\u001b[49m\u001b[43mdt\u001b[49m.tz_localize(\u001b[38;5;28;01mNone\u001b[39;00m)\n\u001b[32m      6\u001b[39m df2[\u001b[33m\"\u001b[39m\u001b[33mproperty_code\u001b[39m\u001b[33m\"\u001b[39m] = df2[\u001b[33m\"\u001b[39m\u001b[33mproperty_code\u001b[39m\u001b[33m\"\u001b[39m].replace(property_names)\n\u001b[32m      7\u001b[39m df2[\u001b[33m\"\u001b[39m\u001b[33mproperty_code\u001b[39m\u001b[33m\"\u001b[39m] = df2[\u001b[33m\"\u001b[39m\u001b[33mproperty_code\u001b[39m\u001b[33m\"\u001b[39m].str.upper()\n",
      "\u001b[36mFile \u001b[39m\u001b[32mc:\\Users\\Alhaan Ahmed\\peep_dataset_collection_work\\env\\Lib\\site-packages\\pandas\\core\\generic.py:6321\u001b[39m, in \u001b[36mNDFrame.__getattr__\u001b[39m\u001b[34m(self, name)\u001b[39m\n\u001b[32m   6314\u001b[39m \u001b[38;5;28;01mif\u001b[39;00m (\n\u001b[32m   6315\u001b[39m     name \u001b[38;5;129;01mnot\u001b[39;00m \u001b[38;5;129;01min\u001b[39;00m \u001b[38;5;28mself\u001b[39m._internal_names_set\n\u001b[32m   6316\u001b[39m     \u001b[38;5;129;01mand\u001b[39;00m name \u001b[38;5;129;01mnot\u001b[39;00m \u001b[38;5;129;01min\u001b[39;00m \u001b[38;5;28mself\u001b[39m._metadata\n\u001b[32m   6317\u001b[39m     \u001b[38;5;129;01mand\u001b[39;00m name \u001b[38;5;129;01mnot\u001b[39;00m \u001b[38;5;129;01min\u001b[39;00m \u001b[38;5;28mself\u001b[39m._accessors\n\u001b[32m   6318\u001b[39m     \u001b[38;5;129;01mand\u001b[39;00m \u001b[38;5;28mself\u001b[39m._info_axis._can_hold_identifiers_and_holds_name(name)\n\u001b[32m   6319\u001b[39m ):\n\u001b[32m   6320\u001b[39m     \u001b[38;5;28;01mreturn\u001b[39;00m \u001b[38;5;28mself\u001b[39m[name]\n\u001b[32m-> \u001b[39m\u001b[32m6321\u001b[39m \u001b[38;5;28;01mreturn\u001b[39;00m \u001b[38;5;28;43mobject\u001b[39;49m\u001b[43m.\u001b[49m\u001b[34;43m__getattribute__\u001b[39;49m\u001b[43m(\u001b[49m\u001b[38;5;28;43mself\u001b[39;49m\u001b[43m,\u001b[49m\u001b[43m \u001b[49m\u001b[43mname\u001b[49m\u001b[43m)\u001b[49m\n",
      "\u001b[36mFile \u001b[39m\u001b[32mc:\\Users\\Alhaan Ahmed\\peep_dataset_collection_work\\env\\Lib\\site-packages\\pandas\\core\\accessor.py:224\u001b[39m, in \u001b[36mCachedAccessor.__get__\u001b[39m\u001b[34m(self, obj, cls)\u001b[39m\n\u001b[32m    221\u001b[39m \u001b[38;5;28;01mif\u001b[39;00m obj \u001b[38;5;129;01mis\u001b[39;00m \u001b[38;5;28;01mNone\u001b[39;00m:\n\u001b[32m    222\u001b[39m     \u001b[38;5;66;03m# we're accessing the attribute of the class, i.e., Dataset.geo\u001b[39;00m\n\u001b[32m    223\u001b[39m     \u001b[38;5;28;01mreturn\u001b[39;00m \u001b[38;5;28mself\u001b[39m._accessor\n\u001b[32m--> \u001b[39m\u001b[32m224\u001b[39m accessor_obj = \u001b[38;5;28;43mself\u001b[39;49m\u001b[43m.\u001b[49m\u001b[43m_accessor\u001b[49m\u001b[43m(\u001b[49m\u001b[43mobj\u001b[49m\u001b[43m)\u001b[49m\n\u001b[32m    225\u001b[39m \u001b[38;5;66;03m# Replace the property with the accessor object. Inspired by:\u001b[39;00m\n\u001b[32m    226\u001b[39m \u001b[38;5;66;03m# https://www.pydanny.com/cached-property.html\u001b[39;00m\n\u001b[32m    227\u001b[39m \u001b[38;5;66;03m# We need to use object.__setattr__ because we overwrite __setattr__ on\u001b[39;00m\n\u001b[32m    228\u001b[39m \u001b[38;5;66;03m# NDFrame\u001b[39;00m\n\u001b[32m    229\u001b[39m \u001b[38;5;28mobject\u001b[39m.\u001b[34m__setattr__\u001b[39m(obj, \u001b[38;5;28mself\u001b[39m._name, accessor_obj)\n",
      "\u001b[36mFile \u001b[39m\u001b[32mc:\\Users\\Alhaan Ahmed\\peep_dataset_collection_work\\env\\Lib\\site-packages\\pandas\\core\\indexes\\accessors.py:643\u001b[39m, in \u001b[36mCombinedDatetimelikeProperties.__new__\u001b[39m\u001b[34m(cls, data)\u001b[39m\n\u001b[32m    640\u001b[39m \u001b[38;5;28;01melif\u001b[39;00m \u001b[38;5;28misinstance\u001b[39m(data.dtype, PeriodDtype):\n\u001b[32m    641\u001b[39m     \u001b[38;5;28;01mreturn\u001b[39;00m PeriodProperties(data, orig)\n\u001b[32m--> \u001b[39m\u001b[32m643\u001b[39m \u001b[38;5;28;01mraise\u001b[39;00m \u001b[38;5;167;01mAttributeError\u001b[39;00m(\u001b[33m\"\u001b[39m\u001b[33mCan only use .dt accessor with datetimelike values\u001b[39m\u001b[33m\"\u001b[39m)\n",
      "\u001b[31mAttributeError\u001b[39m: Can only use .dt accessor with datetimelike values"
     ]
    }
   ],
   "source": [
    "df2 = pd.read_csv(\"pp_property_occupancy_logs.csv\")\n",
    "df2[\"timestamp\"] = pd.to_datetime(df2[\"timestamp\"], format=\"%Y-%m-%d %H:%M:%S\", errors=\"ignore\", dayfirst=True, utc=True)\n",
    "# df2[\"timestamp\"] = pd.to_datetime(df2[\"timestamp\"], errors=\"coerce\", utc=True)\n",
    "# df2[\"timestamp\"] = df2[\"timestamp\"]\n",
    "\n",
    "df2[\"property_code\"] = df2[\"property_code\"].replace(property_names)\n",
    "df2[\"property_code\"] = df2[\"property_code\"].str.upper()\n",
    "df2[\"property_code\"] = df2[\"property_code\"].replace(\"Unknown\", \"\")\n",
    "df2[\"property_code\"] = df2[\"property_code\"].fillna(\"Not Available\")\n",
    "df2[\"property_code\"] = df2[\"person_id\"].map(df.set_index(\"person_id\")[\"property_code\"])\n",
    "\n",
    "df2.loc[df2[\"property_code\"].isna()]\n",
    "\n",
    "df2[\"property_code\"] = df2[\"property_code\"].fillna(df[\"person_id\"].map(\n",
    "    df.set_index(\"person_id\")[\"property_code\"]\n",
    "))\n",
    "df2.head(35)"
   ]
  },
  {
   "cell_type": "code",
   "execution_count": null,
   "id": "c1df1857",
   "metadata": {},
   "outputs": [],
   "source": []
  }
 ],
 "metadata": {
  "kernelspec": {
   "display_name": "env",
   "language": "python",
   "name": "python3"
  },
  "language_info": {
   "codemirror_mode": {
    "name": "ipython",
    "version": 3
   },
   "file_extension": ".py",
   "mimetype": "text/x-python",
   "name": "python",
   "nbconvert_exporter": "python",
   "pygments_lexer": "ipython3",
   "version": "3.13.7"
  }
 },
 "nbformat": 4,
 "nbformat_minor": 5
}
