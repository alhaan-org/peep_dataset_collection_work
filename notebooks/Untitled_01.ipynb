{
 "cells": [
  {
   "cell_type": "code",
   "execution_count": 23,
   "id": "d528dcbd",
   "metadata": {},
   "outputs": [],
   "source": [
    "# Listing Datasets and cleaning the peep registry file\n",
    "import pandas as pd\n",
    "\n",
    "df = pd.read_csv(\"pp_peep_registry.csv\")\n",
    "\n",
    "peep_stats = df[\"peep_status\"].isna()\n",
    "df[\"peep_status\"] = df[\"peep_status\"].fillna(value=\"Not Available\")\n",
    "df[\"peep_required\"] = df[\"peep_required\"].astype(str).str.lower()\n",
    "\n",
    "yes_values = [\"y\", \"yes\", \"true\"]\n",
    "no_values = [\"n\", \"no\", \"false\"]\n",
    "\n",
    "df[\"peep_required\"] = df[\"peep_required\"].apply(\n",
    "    lambda x: \"Yes\" if x in yes_values else (\"No\" if x in no_values else \"Not Specified\")\n",
    ")\n",
    "\n",
    "mobility_category = df[\"mobility_category\"].isna()\n",
    "df[\"mobility_category\"] = df[\"mobility_category\"].fillna(value=\"Category Not Specified\")\n",
    "\n",
    "df[\"last_review_date\"] = pd.to_datetime(df[\"last_review_date\"], format=\"mixed\", dayfirst=True, errors='coerce')\n",
    "\n",
    "property_names = {\"London HQ\": \"LDN-HQ\", \"Bristol Harbourside\": \"BRI-01\", \"Edinburgh Exchange\" : \"EDI-EX\", \"Manchester City Campus\" : \"MCH-CC\", \"Leeds Arena Point\": \"LDS-AR\", \"Birmingham Paradise\": \"BHM-PR\", \"Cardiff Bay\": \"CDF-BY\", \"Belfast Lagan\": \"BEL-LG\", \"Norwich Quarter\": \"NRW-QP\", \"Glasgow Clyde\" : \"GLW-CL\"}\n",
    "df[\"property_code\"] = df[\"property_code\"].replace(property_names)\n",
    "df[\"property_code\"] = df[\"property_code\"].str.upper()\n",
    "\n",
    "df = df.drop_duplicates()\n",
    "\n",
    "df\n",
    "\n",
    "df.to_csv(\"cleaned_peep_registry.csv\", index=False)"
   ]
  },
  {
   "cell_type": "code",
   "execution_count": null,
   "id": "99f76e6c",
   "metadata": {},
   "outputs": [
    {
     "name": "stderr",
     "output_type": "stream",
     "text": [
      "C:\\Users\\Alhaan Ahmed\\AppData\\Local\\Temp\\ipykernel_2500\\3776070009.py:2: FutureWarning: In a future version of pandas, parsing datetimes with mixed time zones will raise an error unless `utc=True`. Please specify `utc=True` to opt in to the new behaviour and silence this warning. To create a `Series` with mixed offsets and `object` dtype, please use `apply` and `datetime.datetime.strptime`\n",
      "  df2[\"timestamp\"] = pd.to_datetime(df2[\"timestamp\"], format=\"mixed\", errors=\"coerce\", dayfirst=True, )\n"
     ]
    }
   ],
   "source": [
    "df2 = pd.read_csv(\"pp_property_occupancy_logs.csv\")\n",
    "df2[\"timestamp\"] = pd.to_datetime(df2[\"timestamp\"], format=\"mixed\", errors=\"coerce\", dayfirst=True, )\n",
    "df2[\"property_code\"] = df2[\"property_code\"].replace(property_names)\n",
    "df2[\"property_code\"] = df2[\"property_code\"].str.upper()\n",
    "df = df.merge(df2[[\"person_id\", \"property_code\"]], on=\"person_id\", how=\"left\", suffixes=(\"\", \"_from_df2\"))\n",
    "\n",
    "df2[\"property_code\"] = df2[\"property_code\"].fillna(df[\"property_code\"])\n",
    "\n",
    "df2"
   ]
  },
  {
   "cell_type": "code",
   "execution_count": null,
   "id": "c1df1857",
   "metadata": {},
   "outputs": [],
   "source": []
  }
 ],
 "metadata": {
  "kernelspec": {
   "display_name": "env (3.12.5)",
   "language": "python",
   "name": "python3"
  },
  "language_info": {
   "codemirror_mode": {
    "name": "ipython",
    "version": 3
   },
   "file_extension": ".py",
   "mimetype": "text/x-python",
   "name": "python",
   "nbconvert_exporter": "python",
   "pygments_lexer": "ipython3",
   "version": "3.12.5"
  }
 },
 "nbformat": 4,
 "nbformat_minor": 5
}
