{
 "cells": [
  {
   "cell_type": "code",
   "execution_count": 57,
   "id": "d528dcbd",
   "metadata": {},
   "outputs": [],
   "source": [
    "# Listing Datasets and cleaning the peep registry file\n",
    "import pandas as pd\n",
    "\n",
    "df = pd.read_csv(\"pp_peep_registry.csv\")\n",
    "\n",
    "peep_stats = df[\"peep_status\"].isna()\n",
    "df[\"peep_status\"] = df[\"peep_status\"].fillna(value=\"Not Available\")\n",
    "df[\"peep_required\"] = df[\"peep_required\"].astype(str).str.lower()\n",
    "\n",
    "yes_values = [\"y\", \"yes\", \"true\"]\n",
    "no_values = [\"n\", \"no\", \"false\"]\n",
    "\n",
    "df[\"peep_required\"] = df[\"peep_required\"].apply(\n",
    "    lambda x: \"Yes\" if x in yes_values else (\"No\" if x in no_values else \"Not Specified\")\n",
    ")\n",
    "\n",
    "mobility_category = df[\"mobility_category\"].isna()\n",
    "df[\"mobility_category\"] = df[\"mobility_category\"].fillna(value=\"Category Not Specified\")\n",
    "\n",
    "df[\"last_review_date\"] = pd.to_datetime(df[\"last_review_date\"], format=\"mixed\", dayfirst=True, errors='coerce')\n",
    "\n",
    "# df.to_csv(\"cleaned_peep_registry.csv\", index=False)"
   ]
  },
  {
   "cell_type": "code",
   "execution_count": null,
   "id": "99f76e6c",
   "metadata": {},
   "outputs": [],
   "source": [
    "df2 = pd.read_csv()"
   ]
  },
  {
   "cell_type": "code",
   "execution_count": null,
   "id": "c1df1857",
   "metadata": {},
   "outputs": [],
   "source": []
  }
 ],
 "metadata": {
  "kernelspec": {
   "display_name": "env (3.12.5)",
   "language": "python",
   "name": "python3"
  },
  "language_info": {
   "codemirror_mode": {
    "name": "ipython",
    "version": 3
   },
   "file_extension": ".py",
   "mimetype": "text/x-python",
   "name": "python",
   "nbconvert_exporter": "python",
   "pygments_lexer": "ipython3",
   "version": "3.12.5"
  }
 },
 "nbformat": 4,
 "nbformat_minor": 5
}
